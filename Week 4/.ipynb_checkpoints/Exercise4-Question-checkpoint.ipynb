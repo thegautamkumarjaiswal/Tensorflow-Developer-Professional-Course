{
 "cells": [
  {
   "cell_type": "markdown",
   "metadata": {
    "colab_type": "text",
    "id": "UncprnB0ymAE"
   },
   "source": [
    "Below is code with a link to a happy or sad dataset which contains 80 images, 40 happy and 40 sad. \n",
    "Create a convolutional neural network that trains to 100% accuracy on these images,  which cancels training upon hitting training accuracy of >.999\n",
    "\n",
    "Hint -- it will work best with 3 convolutional layers."
   ]
  },
  {
   "cell_type": "code",
   "execution_count": 1,
   "metadata": {},
   "outputs": [],
   "source": [
    "import tensorflow as tf\n",
    "import os\n",
    "import zipfile\n",
    "from os import path, getcwd, chdir\n",
    "\n",
    "# DO NOT CHANGE THE LINE BELOW. If you are developing in a local\n",
    "# environment, then grab happy-or-sad.zip from the Coursera Jupyter Notebook\n",
    "# and place it inside a local folder and edit the path to that location\n",
    "path = f\"{getcwd()}/../tmp2/happy-or-sad.zip\"\n",
    "\n",
    "zip_ref = zipfile.ZipFile(path, 'r')\n",
    "zip_ref.extractall(\"/tmp/h-or-s\")\n",
    "zip_ref.close()"
   ]
  },
  {
   "cell_type": "code",
   "execution_count": 48,
   "metadata": {},
   "outputs": [],
   "source": [
    "# GRADED FUNCTION: train_happy_sad_model\n",
    "def train_happy_sad_model():\n",
    "    # Please write your code only where you are indicated.\n",
    "    # please do not remove # model fitting inline comments.\n",
    "\n",
    "    DESIRED_ACCURACY = 0.999\n",
    "\n",
    "    class MyCallback(tf.keras.callbacks.Callback):\n",
    "        def on_epoch_end(self, epoch, logs={}):\n",
    "            if (logs.get('acc') > DESIRED_ACCURACY):\n",
    "                print(\"\\n Reuired 99% accuracy reached, so training cancelled!\")\n",
    "                self.model.stop_training = True\n",
    "\n",
    "    callbacks = MyCallback()\n",
    "    \n",
    "    # This Code Block should Define and Compile the Model. Please assume the images are 150 X 150 in your implementation.\n",
    "    model = tf.keras.models.Sequential([\n",
    "        tf.keras.layers.Conv2D(64, (3, 3), activation='relu', input_shape=(150, 150, 3)),\n",
    "        tf.keras.layers.MaxPooling2D(2, 2),\n",
    "        tf.keras.layers.Conv2D(64, (3, 3), activation='relu'),\n",
    "        tf.keras.layers.MaxPooling2D(2, 2),\n",
    "        tf.keras.layers.Conv2D(64, (3, 3), activation='relu'),\n",
    "        tf.keras.layers.MaxPooling2D(2, 2),\n",
    "        tf.keras.layers.Flatten(),\n",
    "        tf.keras.layers.Dense(512, activation='relu'),\n",
    "        tf.keras.layers.Dense(1, activation='sigmoid')\n",
    "    ])\n",
    "\n",
    "    from tensorflow.keras.optimizers import RMSprop\n",
    "\n",
    "    model.compile(optimizer=RMSprop(learning_rate=0.01), loss='binary_crossentropy', metrics=['accuracy'])\n",
    "\n",
    "    # This code block should create an instance of an ImageDataGenerator called train_datagen \n",
    "    # And a train_generator by calling train_datagen.flow_from_directory\n",
    "\n",
    "    from tensorflow.keras.preprocessing.image import ImageDataGenerator\n",
    "\n",
    "    train_datagen = ImageDataGenerator(rescale=1/255)\n",
    "\n",
    "    # Please use a target_size of 150 X 150.\n",
    "    train_generator = train_datagen.flow_from_directory(\n",
    "    '/tmp/h-or-s',\n",
    "    target_size=(150, 150),\n",
    "    batch_size=64,\n",
    "    class_mode='binary'\n",
    "    )\n",
    "    # Expected output: 'Found 80 images belonging to 2 classes'\n",
    "\n",
    "    # This code block should call model.fit_generator and train for\n",
    "    # a number of epochs.\n",
    "    # model fitting\n",
    "    history = model.fit_generator(\n",
    "        train_generator, epochs=20, callbacks=[callbacks]\n",
    "    )\n",
    "    # model fitting\n",
    "    return history.history['acc'][-1]"
   ]
  },
  {
   "cell_type": "code",
   "execution_count": 49,
   "metadata": {},
   "outputs": [
    {
     "name": "stdout",
     "output_type": "stream",
     "text": [
      "Found 80 images belonging to 2 classes.\n",
      "Epoch 1/20\n",
      "2/2 [==============================] - 2s 983ms/step - loss: 1492.1520 - acc: 0.4750\n",
      "Epoch 2/20\n",
      "2/2 [==============================] - 0s 149ms/step - loss: 312.5664 - acc: 0.5000\n",
      "Epoch 3/20\n",
      "2/2 [==============================] - 0s 149ms/step - loss: 361.3121 - acc: 0.5000\n",
      "Epoch 4/20\n",
      "2/2 [==============================] - 0s 107ms/step - loss: 0.7606 - acc: 0.5000\n",
      "Epoch 5/20\n",
      "2/2 [==============================] - 0s 150ms/step - loss: 0.6870 - acc: 0.4500\n",
      "Epoch 6/20\n",
      "2/2 [==============================] - 0s 144ms/step - loss: 0.6576 - acc: 0.6750\n",
      "Epoch 7/20\n",
      "2/2 [==============================] - 0s 159ms/step - loss: 0.5901 - acc: 0.8375\n",
      "Epoch 8/20\n",
      "2/2 [==============================] - 0s 143ms/step - loss: 0.7482 - acc: 0.4500\n",
      "Epoch 9/20\n",
      "2/2 [==============================] - 0s 157ms/step - loss: 0.5581 - acc: 0.9000\n",
      "Epoch 10/20\n",
      "2/2 [==============================] - 0s 143ms/step - loss: 0.4515 - acc: 0.9500\n",
      "Epoch 11/20\n",
      "2/2 [==============================] - 0s 121ms/step - loss: 0.4312 - acc: 0.7250\n",
      "Epoch 12/20\n",
      "2/2 [==============================] - 0s 137ms/step - loss: 0.4594 - acc: 0.8375\n",
      "Epoch 13/20\n",
      "2/2 [==============================] - 0s 150ms/step - loss: 0.3387 - acc: 0.9250\n",
      "Epoch 14/20\n",
      "2/2 [==============================] - 0s 150ms/step - loss: 0.1549 - acc: 0.9375\n",
      "Epoch 15/20\n",
      "1/2 [==============>...............] - ETA: 0s - loss: 0.1138 - acc: 1.0000\n",
      " Reuired 99% accuracy reached, so training cancelled!\n",
      "2/2 [==============================] - 0s 144ms/step - loss: 0.0819 - acc: 1.0000\n"
     ]
    },
    {
     "data": {
      "text/plain": [
       "1.0"
      ]
     },
     "execution_count": 49,
     "metadata": {},
     "output_type": "execute_result"
    }
   ],
   "source": [
    "# The Expected output: \"Reached 99.9% accuracy so cancelling training!\"\"\n",
    "train_happy_sad_model()"
   ]
  }
 ],
 "metadata": {
  "coursera": {
   "course_slug": "introduction-tensorflow",
   "graded_item_id": "1kAlw",
   "launcher_item_id": "PNLYD"
  },
  "kernelspec": {
   "display_name": "Python 3",
   "language": "python",
   "name": "python3"
  },
  "language_info": {
   "codemirror_mode": {
    "name": "ipython",
    "version": 3
   },
   "file_extension": ".py",
   "mimetype": "text/x-python",
   "name": "python",
   "nbconvert_exporter": "python",
   "pygments_lexer": "ipython3",
   "version": "3.7.6"
  }
 },
 "nbformat": 4,
 "nbformat_minor": 1
}
