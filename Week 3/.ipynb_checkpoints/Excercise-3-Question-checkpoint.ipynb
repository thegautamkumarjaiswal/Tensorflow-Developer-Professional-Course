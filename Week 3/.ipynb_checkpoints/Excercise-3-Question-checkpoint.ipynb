{
 "cells": [
  {
   "cell_type": "markdown",
   "metadata": {
    "colab_type": "text",
    "id": "iQjHqsmTAVLU"
   },
   "source": [
    "## Exercise 3\n",
    "In the videos you looked at how you would improve Fashion MNIST using Convolutions. For your exercise see if you can improve MNIST to 99.8% accuracy or more using only a single convolutional layer and a single MaxPooling 2D. You should stop training once the accuracy goes above this amount. It should happen in less than 20 epochs, so it's ok to hard code the number of epochs for training, but your training must end once it hits the above metric. If it doesn't, then you'll need to redesign your layers.\n",
    "\n",
    "I've started the code for you -- you need to finish it!\n",
    "\n",
    "When 99.8% accuracy has been hit, you should print out the string \"Reached 99.8% accuracy so cancelling training!\"\n"
   ]
  },
  {
   "cell_type": "code",
   "execution_count": 1,
   "metadata": {},
   "outputs": [],
   "source": [
    "import tensorflow as tf\n",
    "from os import path, getcwd, chdir\n",
    "\n",
    "# DO NOT CHANGE THE LINE BELOW. If you are developing in a local\n",
    "# environment, then grab mnist.npz from the Coursera Jupyter Notebook\n",
    "# and place it inside a local folder and edit the path to that location\n",
    "path = f\"{getcwd()}/../tmp2/mnist.npz\""
   ]
  },
  {
   "cell_type": "code",
   "execution_count": 2,
   "metadata": {},
   "outputs": [],
   "source": [
    "config = tf.ConfigProto()\n",
    "config.gpu_options.allow_growth = True\n",
    "sess = tf.Session(config=config)"
   ]
  },
  {
   "cell_type": "code",
   "execution_count": 3,
   "metadata": {},
   "outputs": [],
   "source": [
    "# GRADED FUNCTION: train_mnist_conv\n",
    "def train_mnist_conv():\n",
    "    # Please write your code only where you are indicated.\n",
    "    # please do not remove model fitting inline comments.\n",
    "\n",
    "    class Mycallbacks(tf.keras.callbacks.Callback):\n",
    "        def on_epoch_end(self, epoch, logs={}):\n",
    "            if (logs.get('acc') > 0.998):\n",
    "                print(\"\\n Reached 99.8% accuracy so cancelling training!\")\n",
    "                self.model.stop_training = True\n",
    "\n",
    "    mnist = tf.keras.datasets.mnist\n",
    "    (training_images, training_labels), (test_images, test_labels) = mnist.load_data(path=path)\n",
    "    \n",
    "    training_images=training_images.reshape(60000, 28, 28, 1)\n",
    "    training_images=training_images / 255.0\n",
    "    test_images = test_images.reshape(10000, 28, 28, 1)\n",
    "    test_images=test_images/255.0\n",
    "    \n",
    "    \n",
    "    callbacks = Mycallbacks()\n",
    "\n",
    "    model = tf.keras.models.Sequential([\n",
    "        tf.keras.layers.Conv2D(64, (3, 3), activation='relu', input_shape=(28, 28, 1)),\n",
    "        tf.keras.layers.MaxPool2D(2, 2),\n",
    "        tf.keras.layers.Conv2D(64, (3, 3), activation='relu'),\n",
    "        tf.keras.layers.MaxPool2D(2, 2),\n",
    "        tf.keras.layers.Flatten(input_shape=(28, 28)),\n",
    "        tf.keras.layers.Dense(512, activation='relu'),\n",
    "        tf.keras.layers.Dense(10, activation='softmax'),\n",
    "    ])\n",
    "    \n",
    "\n",
    "    model.compile(optimizer='adam', loss='sparse_categorical_crossentropy', metrics=['accuracy'])\n",
    "    # model fitting\n",
    "    history = model.fit(\n",
    "        training_images, training_labels,\n",
    "        epochs=20, callbacks=[callbacks],\n",
    "    )\n",
    "    # model fitting\n",
    "    return history.epoch, history.history['acc'][-1]\n",
    "\n"
   ]
  },
  {
   "cell_type": "code",
   "execution_count": 4,
   "metadata": {},
   "outputs": [
    {
     "name": "stderr",
     "output_type": "stream",
     "text": [
      "WARNING: Logging before flag parsing goes to stderr.\n",
      "W0521 13:14:08.277461 140058596620096 deprecation.py:506] From /usr/local/lib/python3.6/dist-packages/tensorflow/python/ops/init_ops.py:1251: calling VarianceScaling.__init__ (from tensorflow.python.ops.init_ops) with dtype is deprecated and will be removed in a future version.\n",
      "Instructions for updating:\n",
      "Call initializer instance with the dtype argument instead of passing it to the constructor\n"
     ]
    },
    {
     "name": "stdout",
     "output_type": "stream",
     "text": [
      "Epoch 1/20\n",
      "60000/60000 [==============================] - 16s 272us/sample - loss: 0.1061 - acc: 0.9673\n",
      "Epoch 2/20\n",
      "60000/60000 [==============================] - 14s 226us/sample - loss: 0.0370 - acc: 0.9883\n",
      "Epoch 3/20\n",
      "60000/60000 [==============================] - 14s 237us/sample - loss: 0.0242 - acc: 0.9922\n",
      "Epoch 4/20\n",
      "60000/60000 [==============================] - 14s 230us/sample - loss: 0.0172 - acc: 0.9944\n",
      "Epoch 5/20\n",
      "60000/60000 [==============================] - 14s 227us/sample - loss: 0.0130 - acc: 0.9955\n",
      "Epoch 6/20\n",
      "60000/60000 [==============================] - 13s 223us/sample - loss: 0.0103 - acc: 0.9965\n",
      "Epoch 7/20\n",
      "60000/60000 [==============================] - 14s 227us/sample - loss: 0.0090 - acc: 0.9970\n",
      "Epoch 8/20\n",
      "60000/60000 [==============================] - 13s 225us/sample - loss: 0.0064 - acc: 0.9977\n",
      "Epoch 9/20\n",
      "60000/60000 [==============================] - 14s 227us/sample - loss: 0.0075 - acc: 0.9976\n",
      "Epoch 10/20\n",
      "60000/60000 [==============================] - 14s 227us/sample - loss: 0.0055 - acc: 0.9982\n",
      "Epoch 11/20\n",
      "60000/60000 [==============================] - 13s 220us/sample - loss: 0.0063 - acc: 0.9978\n",
      "Epoch 12/20\n",
      "60000/60000 [==============================] - 13s 222us/sample - loss: 0.0034 - acc: 0.9990\n",
      "Epoch 13/20\n",
      "60000/60000 [==============================] - 13s 218us/sample - loss: 0.0057 - acc: 0.9984\n",
      "Epoch 14/20\n",
      "59744/60000 [============================>.] - ETA: 0s - loss: 0.0030 - acc: 0.9991\n",
      " Reached 99.8% accuracy so cancelling training!\n",
      "60000/60000 [==============================] - 13s 218us/sample - loss: 0.0030 - acc: 0.9991\n"
     ]
    }
   ],
   "source": [
    "_,_ = train_mnist_conv()"
   ]
  },
  {
   "cell_type": "code",
   "execution_count": null,
   "metadata": {},
   "outputs": [],
   "source": []
  }
 ],
 "metadata": {
  "coursera": {
   "course_slug": "introduction-tensorflow",
   "graded_item_id": "ml06H",
   "launcher_item_id": "hQF8A"
  },
  "kernelspec": {
   "display_name": "Python 3",
   "language": "python",
   "name": "python3"
  },
  "language_info": {
   "codemirror_mode": {
    "name": "ipython",
    "version": 3
   },
   "file_extension": ".py",
   "mimetype": "text/x-python",
   "name": "python",
   "nbconvert_exporter": "python",
   "pygments_lexer": "ipython3",
   "version": "3.7.6"
  }
 },
 "nbformat": 4,
 "nbformat_minor": 1
}
