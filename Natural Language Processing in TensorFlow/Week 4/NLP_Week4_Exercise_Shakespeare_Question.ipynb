{
  "nbformat": 4,
  "nbformat_minor": 0,
  "metadata": {
    "accelerator": "GPU",
    "colab": {
      "name": "NLP_Week4_Exercise_Shakespeare_Question.ipynb",
      "provenance": [],
      "toc_visible": true
    },
    "kernelspec": {
      "display_name": "Python 3",
      "name": "python3"
    }
  },
  "cells": [
    {
      "cell_type": "code",
      "metadata": {
        "id": "zX4Kg8DUTKWO"
      },
      "source": [
        "#@title Licensed under the Apache License, Version 2.0 (the \"License\");\n",
        "# you may not use this file except in compliance with the License.\n",
        "# You may obtain a copy of the License at\n",
        "#\n",
        "# https://www.apache.org/licenses/LICENSE-2.0\n",
        "#\n",
        "# Unless required by applicable law or agreed to in writing, software\n",
        "# distributed under the License is distributed on an \"AS IS\" BASIS,\n",
        "# WITHOUT WARRANTIES OR CONDITIONS OF ANY KIND, either express or implied.\n",
        "# See the License for the specific language governing permissions and\n",
        "# limitations under the License."
      ],
      "execution_count": null,
      "outputs": []
    },
    {
      "cell_type": "code",
      "metadata": {
        "id": "BOwsuGQQY9OL"
      },
      "source": [
        "from tensorflow.keras.preprocessing.sequence import pad_sequences\n",
        "from tensorflow.keras.layers import Embedding, LSTM, Dense, Dropout, Bidirectional\n",
        "from tensorflow.keras.preprocessing.text import Tokenizer\n",
        "from tensorflow.keras.models import Sequential\n",
        "from tensorflow.keras.optimizers import Adam\n",
        "from tensorflow.keras import regularizers\n",
        "# Figure out how to import regularizers\n",
        "###\n",
        "import tensorflow.keras.utils as ku \n",
        "import numpy as np "
      ],
      "execution_count": 1,
      "outputs": []
    },
    {
      "cell_type": "code",
      "metadata": {
        "colab": {
          "base_uri": "https://localhost:8080/"
        },
        "id": "PRnDnCW-Z7qv",
        "outputId": "18bb4663-b7bb-4614-e9b4-2f089b3c78e7"
      },
      "source": [
        "tokenizer = Tokenizer()\n",
        "!wget --no-check-certificate \\\n",
        "    https://storage.googleapis.com/laurencemoroney-blog.appspot.com/sonnets.txt \\\n",
        "    -O /tmp/sonnets.txt\n",
        "data = open('/tmp/sonnets.txt').read()\n",
        "\n",
        "corpus = data.lower().split(\"\\n\")\n",
        "\n",
        "\n",
        "tokenizer.fit_on_texts(corpus)\n",
        "total_words = len(tokenizer.word_index) + 1\n",
        "\n",
        "# create input sequences using list of tokens\n",
        "input_sequences = []\n",
        "for line in corpus:\n",
        "\ttoken_list = tokenizer.texts_to_sequences([line])[0]\n",
        "\tfor i in range(1, len(token_list)):\n",
        "\t\tn_gram_sequence = token_list[:i+1]\n",
        "\t\tinput_sequences.append(n_gram_sequence)\n",
        "\n",
        "\n",
        "# pad sequences \n",
        "max_sequence_len = max([len(x) for x in input_sequences])\n",
        "input_sequences = np.array(pad_sequences(input_sequences, maxlen=max_sequence_len, padding='pre'))\n",
        "\n",
        "# create predictors and label\n",
        "predictors, label = input_sequences[:,:-1],input_sequences[:,-1]\n",
        "\n",
        "label = ku.to_categorical(label, num_classes=total_words)"
      ],
      "execution_count": 2,
      "outputs": [
        {
          "output_type": "stream",
          "text": [
            "--2021-06-02 16:28:40--  https://storage.googleapis.com/laurencemoroney-blog.appspot.com/sonnets.txt\n",
            "Resolving storage.googleapis.com (storage.googleapis.com)... 74.125.20.128, 74.125.142.128, 74.125.195.128, ...\n",
            "Connecting to storage.googleapis.com (storage.googleapis.com)|74.125.20.128|:443... connected.\n",
            "HTTP request sent, awaiting response... 200 OK\n",
            "Length: 93578 (91K) [text/plain]\n",
            "Saving to: ‘/tmp/sonnets.txt’\n",
            "\n",
            "\r/tmp/sonnets.txt      0%[                    ]       0  --.-KB/s               \r/tmp/sonnets.txt    100%[===================>]  91.38K  --.-KB/s    in 0.001s  \n",
            "\n",
            "2021-06-02 16:28:40 (125 MB/s) - ‘/tmp/sonnets.txt’ saved [93578/93578]\n",
            "\n"
          ],
          "name": "stdout"
        }
      ]
    },
    {
      "cell_type": "code",
      "metadata": {
        "colab": {
          "base_uri": "https://localhost:8080/"
        },
        "id": "w9vH8Y59ajYL",
        "outputId": "527a18b0-39a0-4b01-e07e-b16665c0c343"
      },
      "source": [
        "model = Sequential()\n",
        "model.add(Embedding(total_words, 100, input_length= max_sequence_len - 1))\n",
        "model.add(LSTM(200, return_sequences=True))\n",
        "model.add(Dropout(0.2))\n",
        "model.add(LSTM(50))\n",
        "model.add(Dense(128, activation='relu', kernel_regularizer=regularizers.l2(0.02)))\n",
        "model.add(Dense(total_words, activation='sigmoid'))\n",
        "# Pick an optimizer\n",
        "model.compile(loss='categorical_crossentropy', optimizer='adam', metrics=['accuracy'])\n",
        "print(model.summary())\n"
      ],
      "execution_count": 5,
      "outputs": [
        {
          "output_type": "stream",
          "text": [
            "Model: \"sequential_2\"\n",
            "_________________________________________________________________\n",
            "Layer (type)                 Output Shape              Param #   \n",
            "=================================================================\n",
            "embedding_2 (Embedding)      (None, 10, 100)           321100    \n",
            "_________________________________________________________________\n",
            "lstm_4 (LSTM)                (None, 10, 200)           240800    \n",
            "_________________________________________________________________\n",
            "dropout_2 (Dropout)          (None, 10, 200)           0         \n",
            "_________________________________________________________________\n",
            "lstm_5 (LSTM)                (None, 50)                50200     \n",
            "_________________________________________________________________\n",
            "dense_2 (Dense)              (None, 128)               6528      \n",
            "_________________________________________________________________\n",
            "dense_3 (Dense)              (None, 3211)              414219    \n",
            "=================================================================\n",
            "Total params: 1,032,847\n",
            "Trainable params: 1,032,847\n",
            "Non-trainable params: 0\n",
            "_________________________________________________________________\n",
            "None\n"
          ],
          "name": "stdout"
        }
      ]
    },
    {
      "cell_type": "code",
      "metadata": {
        "colab": {
          "base_uri": "https://localhost:8080/"
        },
        "id": "AIg2f1HBxqof",
        "outputId": "7d2faa97-68b3-4e63-af45-6a2bbc26f3d0"
      },
      "source": [
        " history = model.fit(predictors, label, epochs=100, verbose=1)"
      ],
      "execution_count": 6,
      "outputs": [
        {
          "output_type": "stream",
          "text": [
            "Epoch 1/100\n",
            "484/484 [==============================] - 14s 11ms/step - loss: 7.1031 - accuracy: 0.0230\n",
            "Epoch 2/100\n",
            "484/484 [==============================] - 5s 11ms/step - loss: 6.6029 - accuracy: 0.0211\n",
            "Epoch 3/100\n",
            "484/484 [==============================] - 5s 11ms/step - loss: 6.5624 - accuracy: 0.0212\n",
            "Epoch 4/100\n",
            "484/484 [==============================] - 5s 11ms/step - loss: 6.4768 - accuracy: 0.0221\n",
            "Epoch 5/100\n",
            "484/484 [==============================] - 5s 11ms/step - loss: 6.4240 - accuracy: 0.0217\n",
            "Epoch 6/100\n",
            "484/484 [==============================] - 5s 11ms/step - loss: 6.3672 - accuracy: 0.0221\n",
            "Epoch 7/100\n",
            "484/484 [==============================] - 5s 11ms/step - loss: 6.3035 - accuracy: 0.0262\n",
            "Epoch 8/100\n",
            "484/484 [==============================] - 5s 11ms/step - loss: 6.2434 - accuracy: 0.0299\n",
            "Epoch 9/100\n",
            "484/484 [==============================] - 5s 11ms/step - loss: 6.1891 - accuracy: 0.0316\n",
            "Epoch 10/100\n",
            "484/484 [==============================] - 5s 11ms/step - loss: 6.1367 - accuracy: 0.0306\n",
            "Epoch 11/100\n",
            "484/484 [==============================] - 5s 11ms/step - loss: 6.0861 - accuracy: 0.0321\n",
            "Epoch 12/100\n",
            "484/484 [==============================] - 5s 11ms/step - loss: 6.0377 - accuracy: 0.0331\n",
            "Epoch 13/100\n",
            "484/484 [==============================] - 5s 11ms/step - loss: 5.9945 - accuracy: 0.0333\n",
            "Epoch 14/100\n",
            "484/484 [==============================] - 5s 11ms/step - loss: 5.9513 - accuracy: 0.0341\n",
            "Epoch 15/100\n",
            "484/484 [==============================] - 5s 10ms/step - loss: 5.9179 - accuracy: 0.0362\n",
            "Epoch 16/100\n",
            "484/484 [==============================] - 5s 10ms/step - loss: 5.8803 - accuracy: 0.0365\n",
            "Epoch 17/100\n",
            "484/484 [==============================] - 5s 11ms/step - loss: 5.8460 - accuracy: 0.0393\n",
            "Epoch 18/100\n",
            "484/484 [==============================] - 5s 10ms/step - loss: 5.8086 - accuracy: 0.0400\n",
            "Epoch 19/100\n",
            "484/484 [==============================] - 5s 10ms/step - loss: 5.7737 - accuracy: 0.0412\n",
            "Epoch 20/100\n",
            "484/484 [==============================] - 5s 11ms/step - loss: 5.7372 - accuracy: 0.0429\n",
            "Epoch 21/100\n",
            "484/484 [==============================] - 5s 11ms/step - loss: 5.7074 - accuracy: 0.0440\n",
            "Epoch 22/100\n",
            "484/484 [==============================] - 5s 11ms/step - loss: 5.6726 - accuracy: 0.0461\n",
            "Epoch 23/100\n",
            "484/484 [==============================] - 5s 11ms/step - loss: 5.6396 - accuracy: 0.0466\n",
            "Epoch 24/100\n",
            "484/484 [==============================] - 5s 11ms/step - loss: 5.6100 - accuracy: 0.0461\n",
            "Epoch 25/100\n",
            "484/484 [==============================] - 5s 11ms/step - loss: 5.5797 - accuracy: 0.0471\n",
            "Epoch 26/100\n",
            "484/484 [==============================] - 5s 11ms/step - loss: 5.5528 - accuracy: 0.0502\n",
            "Epoch 27/100\n",
            "484/484 [==============================] - 5s 11ms/step - loss: 5.5225 - accuracy: 0.0518\n",
            "Epoch 28/100\n",
            "484/484 [==============================] - 5s 11ms/step - loss: 5.4900 - accuracy: 0.0545\n",
            "Epoch 29/100\n",
            "484/484 [==============================] - 5s 10ms/step - loss: 5.4575 - accuracy: 0.0554\n",
            "Epoch 30/100\n",
            "484/484 [==============================] - 5s 10ms/step - loss: 5.4315 - accuracy: 0.0594\n",
            "Epoch 31/100\n",
            "484/484 [==============================] - 5s 11ms/step - loss: 5.3990 - accuracy: 0.0600\n",
            "Epoch 32/100\n",
            "484/484 [==============================] - 5s 11ms/step - loss: 5.3638 - accuracy: 0.0632\n",
            "Epoch 33/100\n",
            "484/484 [==============================] - 5s 11ms/step - loss: 5.3299 - accuracy: 0.0652\n",
            "Epoch 34/100\n",
            "484/484 [==============================] - 5s 11ms/step - loss: 5.2960 - accuracy: 0.0676\n",
            "Epoch 35/100\n",
            "484/484 [==============================] - 5s 11ms/step - loss: 5.2613 - accuracy: 0.0698\n",
            "Epoch 36/100\n",
            "484/484 [==============================] - 5s 11ms/step - loss: 5.2278 - accuracy: 0.0723\n",
            "Epoch 37/100\n",
            "484/484 [==============================] - 5s 11ms/step - loss: 5.1987 - accuracy: 0.0757\n",
            "Epoch 38/100\n",
            "484/484 [==============================] - 5s 11ms/step - loss: 5.1599 - accuracy: 0.0783\n",
            "Epoch 39/100\n",
            "484/484 [==============================] - 5s 11ms/step - loss: 5.1246 - accuracy: 0.0818\n",
            "Epoch 40/100\n",
            "484/484 [==============================] - 5s 11ms/step - loss: 5.0880 - accuracy: 0.0860\n",
            "Epoch 41/100\n",
            "484/484 [==============================] - 5s 11ms/step - loss: 5.0562 - accuracy: 0.0891\n",
            "Epoch 42/100\n",
            "484/484 [==============================] - 5s 11ms/step - loss: 5.0223 - accuracy: 0.0942\n",
            "Epoch 43/100\n",
            "484/484 [==============================] - 5s 11ms/step - loss: 4.9849 - accuracy: 0.0940\n",
            "Epoch 44/100\n",
            "484/484 [==============================] - 5s 11ms/step - loss: 4.9552 - accuracy: 0.1003\n",
            "Epoch 45/100\n",
            "484/484 [==============================] - 5s 11ms/step - loss: 4.9243 - accuracy: 0.1024\n",
            "Epoch 46/100\n",
            "484/484 [==============================] - 5s 11ms/step - loss: 4.8862 - accuracy: 0.1064\n",
            "Epoch 47/100\n",
            "484/484 [==============================] - 5s 11ms/step - loss: 4.8542 - accuracy: 0.1087\n",
            "Epoch 48/100\n",
            "484/484 [==============================] - 5s 10ms/step - loss: 4.8237 - accuracy: 0.1124\n",
            "Epoch 49/100\n",
            "484/484 [==============================] - 5s 11ms/step - loss: 4.7824 - accuracy: 0.1187\n",
            "Epoch 50/100\n",
            "484/484 [==============================] - 5s 10ms/step - loss: 4.7547 - accuracy: 0.1225\n",
            "Epoch 51/100\n",
            "484/484 [==============================] - 5s 10ms/step - loss: 4.7183 - accuracy: 0.1264\n",
            "Epoch 52/100\n",
            "484/484 [==============================] - 5s 10ms/step - loss: 4.6910 - accuracy: 0.1315\n",
            "Epoch 53/100\n",
            "484/484 [==============================] - 5s 11ms/step - loss: 4.6583 - accuracy: 0.1326\n",
            "Epoch 54/100\n",
            "484/484 [==============================] - 5s 11ms/step - loss: 4.6274 - accuracy: 0.1337\n",
            "Epoch 55/100\n",
            "484/484 [==============================] - 5s 10ms/step - loss: 4.5995 - accuracy: 0.1418\n",
            "Epoch 56/100\n",
            "484/484 [==============================] - 5s 10ms/step - loss: 4.5669 - accuracy: 0.1430\n",
            "Epoch 57/100\n",
            "484/484 [==============================] - 5s 11ms/step - loss: 4.5389 - accuracy: 0.1477\n",
            "Epoch 58/100\n",
            "484/484 [==============================] - 5s 11ms/step - loss: 4.5064 - accuracy: 0.1519\n",
            "Epoch 59/100\n",
            "484/484 [==============================] - 5s 11ms/step - loss: 4.4760 - accuracy: 0.1575\n",
            "Epoch 60/100\n",
            "484/484 [==============================] - 5s 11ms/step - loss: 4.4389 - accuracy: 0.1608\n",
            "Epoch 61/100\n",
            "484/484 [==============================] - 5s 11ms/step - loss: 4.4171 - accuracy: 0.1610\n",
            "Epoch 62/100\n",
            "484/484 [==============================] - 5s 11ms/step - loss: 4.3919 - accuracy: 0.1671\n",
            "Epoch 63/100\n",
            "484/484 [==============================] - 5s 11ms/step - loss: 4.3611 - accuracy: 0.1728\n",
            "Epoch 64/100\n",
            "484/484 [==============================] - 5s 10ms/step - loss: 4.3244 - accuracy: 0.1782\n",
            "Epoch 65/100\n",
            "484/484 [==============================] - 5s 11ms/step - loss: 4.2974 - accuracy: 0.1779\n",
            "Epoch 66/100\n",
            "484/484 [==============================] - 5s 11ms/step - loss: 4.2683 - accuracy: 0.1846\n",
            "Epoch 67/100\n",
            "484/484 [==============================] - 5s 11ms/step - loss: 4.2304 - accuracy: 0.1890\n",
            "Epoch 68/100\n",
            "484/484 [==============================] - 5s 11ms/step - loss: 4.2110 - accuracy: 0.1905\n",
            "Epoch 69/100\n",
            "484/484 [==============================] - 5s 10ms/step - loss: 4.1816 - accuracy: 0.1940\n",
            "Epoch 70/100\n",
            "484/484 [==============================] - 5s 11ms/step - loss: 4.1580 - accuracy: 0.1998\n",
            "Epoch 71/100\n",
            "484/484 [==============================] - 5s 11ms/step - loss: 4.1250 - accuracy: 0.2050\n",
            "Epoch 72/100\n",
            "484/484 [==============================] - 5s 11ms/step - loss: 4.0942 - accuracy: 0.2057\n",
            "Epoch 73/100\n",
            "484/484 [==============================] - 5s 11ms/step - loss: 4.0734 - accuracy: 0.2110\n",
            "Epoch 74/100\n",
            "484/484 [==============================] - 5s 11ms/step - loss: 4.0511 - accuracy: 0.2123\n",
            "Epoch 75/100\n",
            "484/484 [==============================] - 5s 10ms/step - loss: 4.0191 - accuracy: 0.2213\n",
            "Epoch 76/100\n",
            "484/484 [==============================] - 5s 11ms/step - loss: 3.9927 - accuracy: 0.2230\n",
            "Epoch 77/100\n",
            "484/484 [==============================] - 5s 11ms/step - loss: 3.9639 - accuracy: 0.2289\n",
            "Epoch 78/100\n",
            "484/484 [==============================] - 5s 11ms/step - loss: 3.9418 - accuracy: 0.2277\n",
            "Epoch 79/100\n",
            "484/484 [==============================] - 5s 11ms/step - loss: 3.9225 - accuracy: 0.2339\n",
            "Epoch 80/100\n",
            "484/484 [==============================] - 5s 11ms/step - loss: 3.8959 - accuracy: 0.2352\n",
            "Epoch 81/100\n",
            "484/484 [==============================] - 5s 11ms/step - loss: 3.8666 - accuracy: 0.2429\n",
            "Epoch 82/100\n",
            "484/484 [==============================] - 5s 11ms/step - loss: 3.8450 - accuracy: 0.2440\n",
            "Epoch 83/100\n",
            "484/484 [==============================] - 5s 11ms/step - loss: 3.8178 - accuracy: 0.2487\n",
            "Epoch 84/100\n",
            "484/484 [==============================] - 5s 11ms/step - loss: 3.8084 - accuracy: 0.2503\n",
            "Epoch 85/100\n",
            "484/484 [==============================] - 5s 11ms/step - loss: 3.7704 - accuracy: 0.2589\n",
            "Epoch 86/100\n",
            "484/484 [==============================] - 5s 11ms/step - loss: 3.7555 - accuracy: 0.2590\n",
            "Epoch 87/100\n",
            "484/484 [==============================] - 5s 11ms/step - loss: 3.7344 - accuracy: 0.2636\n",
            "Epoch 88/100\n",
            "484/484 [==============================] - 5s 11ms/step - loss: 3.7161 - accuracy: 0.2679\n",
            "Epoch 89/100\n",
            "484/484 [==============================] - 5s 10ms/step - loss: 3.6808 - accuracy: 0.2728\n",
            "Epoch 90/100\n",
            "484/484 [==============================] - 5s 11ms/step - loss: 3.6670 - accuracy: 0.2764\n",
            "Epoch 91/100\n",
            "484/484 [==============================] - 5s 11ms/step - loss: 3.6421 - accuracy: 0.2807\n",
            "Epoch 92/100\n",
            "484/484 [==============================] - 5s 11ms/step - loss: 3.6228 - accuracy: 0.2841\n",
            "Epoch 93/100\n",
            "484/484 [==============================] - 5s 11ms/step - loss: 3.5997 - accuracy: 0.2880\n",
            "Epoch 94/100\n",
            "484/484 [==============================] - 5s 10ms/step - loss: 3.5794 - accuracy: 0.2944\n",
            "Epoch 95/100\n",
            "484/484 [==============================] - 5s 11ms/step - loss: 3.5534 - accuracy: 0.2982\n",
            "Epoch 96/100\n",
            "484/484 [==============================] - 5s 11ms/step - loss: 3.5288 - accuracy: 0.3032\n",
            "Epoch 97/100\n",
            "484/484 [==============================] - 5s 11ms/step - loss: 3.5214 - accuracy: 0.3029\n",
            "Epoch 98/100\n",
            "484/484 [==============================] - 5s 11ms/step - loss: 3.4968 - accuracy: 0.3099\n",
            "Epoch 99/100\n",
            "484/484 [==============================] - 5s 11ms/step - loss: 3.4693 - accuracy: 0.3154\n",
            "Epoch 100/100\n",
            "484/484 [==============================] - 5s 11ms/step - loss: 3.4619 - accuracy: 0.3112\n"
          ],
          "name": "stdout"
        }
      ]
    },
    {
      "cell_type": "code",
      "metadata": {
        "colab": {
          "base_uri": "https://localhost:8080/",
          "height": 545
        },
        "id": "1fXTEO3GJ282",
        "outputId": "e7320089-c06c-4df6-93bf-d53d8ce241f0"
      },
      "source": [
        "import matplotlib.pyplot as plt\n",
        "acc = history.history['accuracy']\n",
        "loss = history.history['loss']\n",
        "\n",
        "epochs = range(len(acc))\n",
        "\n",
        "plt.plot(epochs, acc, 'b', label='Training accuracy')\n",
        "plt.title('Training accuracy')\n",
        "\n",
        "plt.figure()\n",
        "\n",
        "plt.plot(epochs, loss, 'b', label='Training Loss')\n",
        "plt.title('Training loss')\n",
        "plt.legend()\n",
        "\n",
        "plt.show()"
      ],
      "execution_count": 7,
      "outputs": [
        {
          "output_type": "display_data",
          "data": {
            "image/png": "[encoded data removed]",
            "text/plain": [
              "<Figure size 432x288 with 1 Axes>"
            ]
          },
          "metadata": {
            "tags": [],
            "needs_background": "light"
          }
        },
        {
          "output_type": "display_data",
          "data": {
            "image/png": "[encoded data removed]",
            "text/plain": [
              "<Figure size 432x288 with 1 Axes>"
            ]
          },
          "metadata": {
            "tags": [],
            "needs_background": "light"
          }
        }
      ]
    },
    {
      "cell_type": "code",
      "metadata": {
        "colab": {
          "base_uri": "https://localhost:8080/"
        },
        "id": "6Vc6PHgxa6Hm",
        "outputId": "40bca533-5b4a-4d2d-f836-9cdbcd0a2182"
      },
      "source": [
        "seed_text = \"Help me Obi Wan Kenobi, you're my only hope\"\n",
        "next_words = 100\n",
        "  \n",
        "for _ in range(next_words):\n",
        "\ttoken_list = tokenizer.texts_to_sequences([seed_text])[0]\n",
        "\ttoken_list = pad_sequences([token_list], maxlen=max_sequence_len-1, padding='pre')\n",
        "\tpredicted = model.predict_classes(token_list, verbose=0)\n",
        "\toutput_word = \"\"\n",
        "\tfor word, index in tokenizer.word_index.items():\n",
        "\t\tif index == predicted:\n",
        "\t\t\toutput_word = word\n",
        "\t\t\tbreak\n",
        "\tseed_text += \" \" + output_word\n",
        "print(seed_text)"
      ],
      "execution_count": 8,
      "outputs": [
        {
          "output_type": "stream",
          "text": [
            "/usr/local/lib/python3.7/dist-packages/tensorflow/python/keras/engine/sequential.py:455: UserWarning: `model.predict_classes()` is deprecated and will be removed after 2021-01-01. Please use instead:* `np.argmax(model.predict(x), axis=-1)`,   if your model does multi-class classification   (e.g. if it uses a `softmax` last-layer activation).* `(model.predict(x) > 0.5).astype(\"int32\")`,   if your model does binary classification   (e.g. if it uses a `sigmoid` last-layer activation).\n",
            "  warnings.warn('`model.predict_classes()` is deprecated and '\n"
          ],
          "name": "stderr"
        },
        {
          "output_type": "stream",
          "text": [
            "Help me Obi Wan Kenobi, you're my only hope a praise mad youth gone of go dead light near good time very humble hate second face very very very woman woman woman bier very seething world fled hue errors after loss truth good hide hand to wit of thee thee must had than rare survey jewel date ' true true woe part hand men main of love wherein night ' men's kill new back strange night old days quite asleep decease old gone hand hand of hand strange fill to more thee lie of me as thine eyes be love with new part of thee but still did catch\n"
          ],
          "name": "stdout"
        }
      ]
    },
    {
      "cell_type": "code",
      "metadata": {
        "id": "zpG4r5GelX-x"
      },
      "source": [
        ""
      ],
      "execution_count": null,
      "outputs": []
    }
  ]
}